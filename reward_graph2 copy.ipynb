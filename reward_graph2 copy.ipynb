{
 "metadata": {
  "language_info": {
   "codemirror_mode": {
    "name": "ipython",
    "version": 3
   },
   "file_extension": ".py",
   "mimetype": "text/x-python",
   "name": "python",
   "nbconvert_exporter": "python",
   "pygments_lexer": "ipython3",
   "version": "3.8.8"
  },
  "orig_nbformat": 4,
  "kernelspec": {
   "name": "python3",
   "display_name": "Python 3.8.8 64-bit ('.venv': venv)"
  },
  "interpreter": {
   "hash": "0eb0967a388e06fe4af0c089412a1076ad0afbb8ddb885ab937389e057211020"
  }
 },
 "nbformat": 4,
 "nbformat_minor": 2,
 "cells": [
  {
   "cell_type": "code",
   "execution_count": 2,
   "source": [
    "import pandas as pd\r\n",
    "import pathlib\r\n",
    "import os\r\n",
    "import torch\r\n",
    "import csv"
   ],
   "outputs": [],
   "metadata": {}
  },
  {
   "cell_type": "code",
   "execution_count": 4,
   "source": [
    "r_tensor = torch.tensor([[2], [3], [4]]).to('cuda')\r\n",
    "new_tensor = torch.tensor([[9]]).to('cuda')\r\n",
    "new_tensor2 = torch.cat((r_tensor, new_tensor), dim=0)\r\n",
    "new_tensor2[3].item()"
   ],
   "outputs": [
    {
     "output_type": "execute_result",
     "data": {
      "text/plain": [
       "4"
      ]
     },
     "metadata": {},
     "execution_count": 4
    }
   ],
   "metadata": {}
  },
  {
   "cell_type": "code",
   "execution_count": 5,
   "source": [
    "directory = os.path.abspath('reward_monitors\\old2')\r\n",
    "# rlt_tensor = torch.tensor([0], [0], [0])\r\n",
    "\r\n",
    "counter=0\r\n",
    "for filename in os.listdir(directory):\r\n",
    "    with open(directory+\"\\\\\"+filename) as csvfile:\r\n",
    "        reward_monitor = csv.reader(csvfile)\r\n",
    "        for row in reward_monitor:\r\n",
    "            if counter >= 4 and counter % 2 == 0:\r\n",
    "                print(row)\r\n",
    "        "
   ],
   "outputs": [
    {
     "output_type": "error",
     "ename": "TypeError",
     "evalue": "'_csv.reader' object is not subscriptable",
     "traceback": [
      "\u001b[1;31m---------------------------------------------------------------------------\u001b[0m",
      "\u001b[1;31mTypeError\u001b[0m                                 Traceback (most recent call last)",
      "\u001b[1;32m<ipython-input-5-b08ad9c293ad>\u001b[0m in \u001b[0;36m<module>\u001b[1;34m\u001b[0m\n\u001b[0;32m      6\u001b[0m     \u001b[1;32mwith\u001b[0m \u001b[0mopen\u001b[0m\u001b[1;33m(\u001b[0m\u001b[0mdirectory\u001b[0m\u001b[1;33m+\u001b[0m\u001b[1;34m\"\\\\\"\u001b[0m\u001b[1;33m+\u001b[0m\u001b[0mfilename\u001b[0m\u001b[1;33m)\u001b[0m \u001b[1;32mas\u001b[0m \u001b[0mcsvfile\u001b[0m\u001b[1;33m:\u001b[0m\u001b[1;33m\u001b[0m\u001b[1;33m\u001b[0m\u001b[0m\n\u001b[0;32m      7\u001b[0m         \u001b[0mreward_monitor\u001b[0m \u001b[1;33m=\u001b[0m \u001b[0mcsv\u001b[0m\u001b[1;33m.\u001b[0m\u001b[0mreader\u001b[0m\u001b[1;33m(\u001b[0m\u001b[0mcsvfile\u001b[0m\u001b[1;33m)\u001b[0m\u001b[1;33m\u001b[0m\u001b[1;33m\u001b[0m\u001b[0m\n\u001b[1;32m----> 8\u001b[1;33m         \u001b[0mprint\u001b[0m\u001b[1;33m(\u001b[0m\u001b[0mreward_monitor\u001b[0m\u001b[1;33m[\u001b[0m\u001b[1;36m0\u001b[0m\u001b[1;33m]\u001b[0m\u001b[1;33m)\u001b[0m\u001b[1;33m\u001b[0m\u001b[1;33m\u001b[0m\u001b[0m\n\u001b[0m\u001b[0;32m      9\u001b[0m \u001b[1;33m\u001b[0m\u001b[0m\n",
      "\u001b[1;31mTypeError\u001b[0m: '_csv.reader' object is not subscriptable"
     ]
    }
   ],
   "metadata": {}
  },
  {
   "cell_type": "code",
   "execution_count": null,
   "source": [
    "filename = \"reward_record.monitor_6_25_250m.csv\""
   ],
   "outputs": [],
   "metadata": {}
  },
  {
   "cell_type": "code",
   "execution_count": null,
   "source": [
    "reward_file = pd.read_csv(\"reward_record.monitor_NEW_CSV.csv\")\r\n",
    "reward_file.info()"
   ],
   "outputs": [],
   "metadata": {}
  },
  {
   "cell_type": "code",
   "execution_count": null,
   "source": [
    "reward_file['avg_cumulative'] = reward_file['Rewards'].expanding().mean()\r\n",
    "reward_file['total_timestep'] = reward_file['Timesteps'].expanding().sum()"
   ],
   "outputs": [],
   "metadata": {}
  },
  {
   "cell_type": "code",
   "execution_count": null,
   "source": [
    "import seaborn as sns\r\n",
    "ax = sns.scatterplot(data=reward_file, x='total_timestep', y='avg_cumulative', color='red')\r\n",
    "ax.set(xlabel=\"Total Timesteps\", ylabel = \"Average Cumulative Reward\")\r\n"
   ],
   "outputs": [],
   "metadata": {}
  },
  {
   "cell_type": "code",
   "execution_count": null,
   "source": [
    "ax = sns.scatterplot(data=reward_file, x='total_timestep', y='Rewards')\r\n",
    "ax.set(xlabel=\"Total Timesteps\", ylabel = \"Rewards Per Episode\")"
   ],
   "outputs": [],
   "metadata": {}
  }
 ]
}