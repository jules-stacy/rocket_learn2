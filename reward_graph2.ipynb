{
 "metadata": {
  "language_info": {
   "codemirror_mode": {
    "name": "ipython",
    "version": 3
   },
   "file_extension": ".py",
   "mimetype": "text/x-python",
   "name": "python",
   "nbconvert_exporter": "python",
   "pygments_lexer": "ipython3",
   "version": "3.8.8"
  },
  "orig_nbformat": 4,
  "kernelspec": {
   "name": "python3",
   "display_name": "Python 3.8.8 64-bit ('.venv': venv)"
  },
  "interpreter": {
   "hash": "0eb0967a388e06fe4af0c089412a1076ad0afbb8ddb885ab937389e057211020"
  }
 },
 "nbformat": 4,
 "nbformat_minor": 2,
 "cells": [
  {
   "cell_type": "code",
   "execution_count": 2,
   "source": [
    "import pandas as pd\r\n",
    "import pathlib\r\n",
    "import os\r\n",
    "import torch\r\n",
    "import csv"
   ],
   "outputs": [],
   "metadata": {}
  },
  {
   "cell_type": "code",
   "execution_count": null,
   "source": [
    "# r_tensor = torch.tensor([[2], [3], [4]]).to('cuda')\r\n",
    "# new_tensor = torch.tensor([[9]]).to('cuda')\r\n",
    "# new_tensor2 = torch.cat((r_tensor, new_tensor), dim=0)\r\n",
    "# new_tensor2[3].item()"
   ],
   "outputs": [],
   "metadata": {}
  },
  {
   "cell_type": "code",
   "execution_count": null,
   "source": [
    "# r_tensor = torch.tensor([]).to('cuda')\r\n",
    "# new_tensor = torch.tensor([[9]]).to('cuda')\r\n",
    "# new_tensor2 = torch.cat((r_tensor, new_tensor), dim=0)\r\n",
    "# new_tensor2 = torch.cat((new_tensor2, new_tensor), dim=0)\r\n",
    "# print(new_tensor2[1])"
   ],
   "outputs": [],
   "metadata": {}
  },
  {
   "cell_type": "code",
   "execution_count": 3,
   "source": [
    "directory = os.path.abspath('reward_monitors\\old')\r\n",
    "\r\n",
    "r_tensor = torch.tensor([]).to('cuda')\r\n",
    "l_tensor = torch.tensor([]).to('cuda')\r\n",
    "t_tensor = torch.tensor([]).to('cuda')\r\n",
    "\r\n",
    "tensor_index = 0\r\n",
    "for filename in os.listdir(directory):\r\n",
    "    counter=0\r\n",
    "    with open(directory+\"\\\\\"+filename) as csvfile:\r\n",
    "        print(filename)\r\n",
    "        reward_monitor = csv.reader(csvfile)\r\n",
    "        for row in reward_monitor:\r\n",
    "            if counter >= 2 and counter % 2 != 0:\r\n",
    "                # grab the values from each file\r\n",
    "                r = row[0]\r\n",
    "                r_harvest = torch.tensor([float(r)]).to('cuda')\r\n",
    "                l = row[1]\r\n",
    "                l_harvest = torch.tensor([int(l)]).to('cuda')\r\n",
    "                t = row[2]\r\n",
    "                t_harvest = torch.tensor([float(t)]).to('cuda')\r\n",
    "                # insert them into master tensors\r\n",
    "                r_tensor = torch.cat((r_tensor, r_harvest), dim=0)\r\n",
    "                l_tensor = torch.cat((l_tensor, l_harvest), dim=0)\r\n",
    "                t_tensor = torch.cat((t_tensor, t_harvest), dim=0)\r\n",
    "                \r\n",
    "\r\n",
    "                tensor_index += 1\r\n",
    "            counter += 1\r\n",
    "\r\n",
    "print(\"job completed. Number of values: \", tensor_index)\r\n"
   ],
   "outputs": [
    {
     "output_type": "stream",
     "name": "stdout",
     "text": [
      "reward_record.monitor_6_25_250m.csv\n",
      "reward_record.monitor_6_30_250-292.csv\n",
      "reward_record.monitor_7_1_290_322.csv\n",
      "reward_record.monitor_7_1_322_370.csv\n",
      "reward_record.monitor_7_2_370_450.csv\n",
      "reward_record.monitor_7_4_450_542.csv\n",
      "reward_record.monitor_7_5_542_745.csv\n",
      "reward_record.monitor_7_7_745_930.csv\n",
      "reward_record.monitor_7_8_930_1005.csv\n",
      "job completed. Number of values:  2283534\n"
     ]
    }
   ],
   "metadata": {}
  },
  {
   "cell_type": "code",
   "execution_count": 30,
   "source": [
    "r_harvest"
   ],
   "outputs": [
    {
     "output_type": "execute_result",
     "data": {
      "text/plain": [
       "tensor([45.3757], device='cuda:0')"
      ]
     },
     "metadata": {},
     "execution_count": 30
    }
   ],
   "metadata": {}
  },
  {
   "cell_type": "code",
   "execution_count": 7,
   "source": [
    "unique_timesteps, timestep_counts = torch.unique_consecutive(input=t_tensor, return_counts=True)"
   ],
   "outputs": [
    {
     "output_type": "execute_result",
     "data": {
      "text/plain": [
       "tensor(17.9049, device='cuda:0')"
      ]
     },
     "metadata": {},
     "execution_count": 7
    }
   ],
   "metadata": {}
  },
  {
   "cell_type": "code",
   "execution_count": 33,
   "source": [
    "start = 0\r\n",
    "\r\n",
    "avgreward = torch.tensor([]).to('cuda')\r\n",
    "cumavg = torch.tensor([]).to('cuda')\r\n",
    "\r\n",
    "for count in timestep_counts:\r\n",
    "    end = start + count.item()\r\n",
    "    avgreward = torch.cat((avgreward, r_tensor[start:end].mean().unsqueeze(dim=0) ), dim=0)\r\n",
    "    cumavg = torch.cat((cumavg, r_tensor[0:end].mean().unsqueeze(dim=0) ), dim=0)\r\n",
    "\r\n",
    "    start = end\r\n",
    "\r\n"
   ],
   "outputs": [],
   "metadata": {}
  },
  {
   "cell_type": "code",
   "execution_count": 45,
   "source": [
    "avgreward.size()"
   ],
   "outputs": [
    {
     "output_type": "execute_result",
     "data": {
      "text/plain": [
       "torch.Size([1155469])"
      ]
     },
     "metadata": {},
     "execution_count": 45
    }
   ],
   "metadata": {}
  },
  {
   "cell_type": "code",
   "execution_count": 46,
   "source": [
    "import torchplot as plt"
   ],
   "outputs": [],
   "metadata": {}
  },
  {
   "cell_type": "code",
   "execution_count": 48,
   "source": [
    "plt.plot(unique_timesteps, avgreward, \".\")"
   ],
   "outputs": [
    {
     "output_type": "execute_result",
     "data": {
      "text/plain": [
       "[<matplotlib.lines.Line2D at 0x1fdc66da880>]"
      ]
     },
     "metadata": {},
     "execution_count": 48
    },
    {
     "output_type": "display_data",
     "data": {
      "text/plain": [
       "<Figure size 432x288 with 1 Axes>"
      ],
      "image/png": "[encoded data removed]"
     },
     "metadata": {
      "needs_background": "light"
     }
    }
   ],
   "metadata": {}
  },
  {
   "cell_type": "code",
   "execution_count": 51,
   "source": [
    "cumavg.size()"
   ],
   "outputs": [
    {
     "output_type": "execute_result",
     "data": {
      "text/plain": [
       "torch.Size([1155469])"
      ]
     },
     "metadata": {},
     "execution_count": 51
    }
   ],
   "metadata": {}
  },
  {
   "cell_type": "code",
   "execution_count": 54,
   "source": [
    "plt.plot(unique_timesteps, cumavg, \".\")\r\n",
    "plt.xlabel(\"Total Timesteps\")\r\n",
    "plt.ylabel(\"Average Cumulative Reward\")"
   ],
   "outputs": [
    {
     "output_type": "execute_result",
     "data": {
      "text/plain": [
       "Text(0, 0.5, 'Average Cumulative Reward')"
      ]
     },
     "metadata": {},
     "execution_count": 54
    },
    {
     "output_type": "display_data",
     "data": {
      "text/plain": [
       "<Figure size 432x288 with 1 Axes>"
      ],
      "image/png": "[encoded data removed]"
     },
     "metadata": {
      "needs_background": "light"
     }
    }
   ],
   "metadata": {}
  },
  {
   "cell_type": "code",
   "execution_count": null,
   "source": [
    "reward_file = pd.read_csv(\"reward_record.monitor_NEW_CSV.csv\")\r\n",
    "reward_file.info()"
   ],
   "outputs": [],
   "metadata": {}
  },
  {
   "cell_type": "code",
   "execution_count": null,
   "source": [
    "reward_file['avg_cumulative'] = reward_file['Rewards'].expanding().mean()\r\n",
    "reward_file['total_timestep'] = reward_file['Timesteps'].expanding().sum()"
   ],
   "outputs": [],
   "metadata": {}
  },
  {
   "cell_type": "code",
   "execution_count": null,
   "source": [
    "import seaborn as sns\r\n",
    "ax = sns.scatterplot(data=reward_file, x='total_timestep', y='avg_cumulative', color='red')\r\n",
    "ax.set(xlabel=\"Total Timesteps\", ylabel = \"Average Cumulative Reward\")\r\n"
   ],
   "outputs": [],
   "metadata": {}
  },
  {
   "cell_type": "code",
   "execution_count": null,
   "source": [
    "ax = sns.scatterplot(data=reward_file, x='total_timestep', y='Rewards')\r\n",
    "ax.set(xlabel=\"Total Timesteps\", ylabel = \"Rewards Per Episode\")"
   ],
   "outputs": [],
   "metadata": {}
  }
 ]
}