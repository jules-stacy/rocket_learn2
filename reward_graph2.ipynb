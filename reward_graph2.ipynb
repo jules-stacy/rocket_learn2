{
 "metadata": {
  "language_info": {
   "codemirror_mode": {
    "name": "ipython",
    "version": 3
   },
   "file_extension": ".py",
   "mimetype": "text/x-python",
   "name": "python",
   "nbconvert_exporter": "python",
   "pygments_lexer": "ipython3",
   "version": 3
  },
  "orig_nbformat": 4
 },
 "nbformat": 4,
 "nbformat_minor": 2,
 "cells": [
  {
   "cell_type": "code",
   "execution_count": null,
   "metadata": {},
   "outputs": [],
   "source": [
    "import pandas as pd"
   ]
  },
  {
   "cell_type": "code",
   "execution_count": null,
   "metadata": {},
   "outputs": [],
   "source": [
    "reward_file = pd.read_csv(\"reward_record.monitor_NEW_CSV.csv\")\n",
    "reward_file.info()"
   ]
  },
  {
   "cell_type": "code",
   "execution_count": null,
   "metadata": {},
   "outputs": [],
   "source": [
    "reward_file['avg_cumulative'] = reward_file['Rewards'].expanding().mean()\n",
    "reward_file['total_timestep'] = reward_file['Timesteps'].expanding().sum()"
   ]
  },
  {
   "cell_type": "code",
   "execution_count": null,
   "metadata": {},
   "outputs": [],
   "source": [
    "import seaborn as sns\n",
    "ax = sns.scatterplot(data=reward_file, x='total_timestep', y='avg_cumulative', color='red')\n",
    "ax.set(xlabel=\"Total Timesteps\", ylabel = \"Average Cumulative Reward\")\n"
   ]
  },
  {
   "cell_type": "code",
   "execution_count": null,
   "metadata": {},
   "outputs": [],
   "source": [
    "ax = sns.scatterplot(data=reward_file, x='total_timestep', y='Rewards')\n",
    "ax.set(xlabel=\"Total Timesteps\", ylabel = \"Rewards Per Episode\")"
   ]
  }
 ]
}